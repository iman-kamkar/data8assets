{
 "cells": [
  {
   "cell_type": "markdown",
   "metadata": {},
   "source": [
    "## Basic Ranges"
   ]
  },
  {
   "cell_type": "code",
   "execution_count": 1,
   "metadata": {},
   "outputs": [
    {
     "name": "stderr",
     "output_type": "stream",
     "text": [
      "WARNING  | guidance.py:102 | Failed to read .ok_guidance file. It may not exist\n"
     ]
    },
    {
     "name": "stdout",
     "output_type": "stream",
     "text": [
      "=====================================================================\n",
      "Assignment: Basic Ranges\n",
      "OK, version v1.12.10\n",
      "=====================================================================\n",
      "\n"
     ]
    }
   ],
   "source": [
    "# Run this cell to set up the notebook, but please don't change it.\n",
    "\n",
    "# These lines import the Numpy and Datascience modules.\n",
    "import numpy as np\n",
    "from datascience import *\n",
    "\n",
    "# These lines load the tests.\n",
    "from client.api.assignment import load_assignment \n",
    "tests = load_assignment('basic_ranges.ok')"
   ]
  },
  {
   "cell_type": "markdown",
   "metadata": {},
   "source": [
    "The Federal Reserve Bank of St. Louis publishes data about jobs in the US.  Below we've loaded data on the proportion of people who are considered able to work but can't find jobs.  (We'll call them \"unemployed,\" though that's an oversimplification.  The source of the data is [here](https://fred.stlouisfed.org/series/NEIPTERM156SFRBRIC).)"
   ]
  },
  {
   "cell_type": "code",
   "execution_count": 2,
   "metadata": {},
   "outputs": [
    {
     "data": {
      "text/plain": [
       "array([ 11.172 ,  10.7883,  10.4831,  10.2361,  10.1832,  10.1071,\n",
       "        10.1084,  10.1046,  10.0531,   9.9782,   9.8631,   9.7301,\n",
       "         9.7366,   9.537 ,   9.3037,   9.2069,   9.0969,   8.8923,\n",
       "         9.0645,   8.8935,   8.7141,   8.9188,   8.7204,   8.541 ,\n",
       "         8.3379,   8.4199,   8.4458,   8.4192,   8.4969,   8.804 ,\n",
       "         8.9862,   9.6705,   9.93  ,   9.8924,   9.8211,   9.6759,\n",
       "         9.9142,  10.0221,  10.0877,   9.9961,   9.8511,   9.7344,\n",
       "         9.6846,   9.7019,   9.5387,   9.4368,   9.3486,   9.3271,\n",
       "         9.178 ,   9.1606,   9.142 ,   9.0866,   9.0183,   9.1577,\n",
       "         9.1351,   9.2266,   9.3475,   9.5938,  10.1713,  10.689 ,\n",
       "        12.0139,  12.5497,  12.7404,  12.8557,  12.7311,  12.5664,\n",
       "        12.3897,  12.4329,  12.3017,  12.247 ,  12.2507,  12.1214,\n",
       "        11.7973,  11.6771,  11.7318,  11.5387,  11.7434,  11.4562,\n",
       "        11.2893,  11.2656,  10.7737,  10.663 ,  10.5998,  10.4158,\n",
       "        10.281 ,  10.1483,   9.9166,   9.8385,   9.6174,   9.7146])"
      ]
     },
     "execution_count": 2,
     "metadata": {},
     "output_type": "execute_result"
    }
   ],
   "source": [
    "# Run this cell to load the data.  You don't need to\n",
    "# read it.\n",
    "unemployment = Table.read_table(\"unemployment.csv\").column(\"rate\")\n",
    "unemployment"
   ]
  },
  {
   "cell_type": "markdown",
   "metadata": {},
   "source": [
    "Each number in the array `unemployment` is the unemployment rate at the start of one quarter (a 3-month period) of a year.  The first element is the unemployment rate at the start of the first quarter of 1994.\n",
    "\n",
    "**Question 1.** Let's label each number with its date.  We'll say that the first quarter of 1994 is 1994.0, the second quarter is 1994.25, the third quarter is 1994.5, and so on.  Create an array called `measurement_dates` with the dates for each number in `unemployment`."
   ]
  },
  {
   "cell_type": "code",
   "execution_count": 55,
   "metadata": {
    "collapsed": true
   },
   "outputs": [],
   "source": [
    "measurement_dates = ...\n",
    "measurement_dates"
   ]
  },
  {
   "cell_type": "code",
   "execution_count": 56,
   "metadata": {
    "collapsed": true
   },
   "outputs": [],
   "source": [
    "_ = tests.grade('q1')"
   ]
  },
  {
   "cell_type": "markdown",
   "metadata": {},
   "source": [
    "**Question 2.** What are the year and quarter of the last measurement?"
   ]
  },
  {
   "cell_type": "markdown",
   "metadata": {
    "collapsed": true
   },
   "source": [
    "*Write your answer here, replacing this text.*"
   ]
  },
  {
   "cell_type": "markdown",
   "metadata": {},
   "source": [
    "**Question 3.** What was the biggest increase in the unemployment rate from one quarter to the next?  Calculate the answer using Python code, *not* by looking at the data yourself.  If you're stuck, run the tests for a hint."
   ]
  },
  {
   "cell_type": "code",
   "execution_count": 57,
   "metadata": {
    "collapsed": true
   },
   "outputs": [],
   "source": [
    "biggest_increase = ...\n",
    "biggest_increase"
   ]
  },
  {
   "cell_type": "code",
   "execution_count": 58,
   "metadata": {
    "collapsed": true
   },
   "outputs": [],
   "source": [
    "_ = tests.grade('q3')"
   ]
  },
  {
   "cell_type": "markdown",
   "metadata": {},
   "source": [
    "**Question 4.** In what year and quarter did that increase happen?  For this question, it's okay to look at the data yourself.  You may still want to run some code, and the cell below is provided for that."
   ]
  },
  {
   "cell_type": "markdown",
   "metadata": {},
   "source": [
    "*Write your answer here, replacing this text.*"
   ]
  },
  {
   "cell_type": "code",
   "execution_count": null,
   "metadata": {
    "collapsed": true,
    "for_assignment_type": "student"
   },
   "outputs": [],
   "source": [
    "# This cell is provided for exploration."
   ]
  },
  {
   "cell_type": "markdown",
   "metadata": {},
   "source": [
    "**Question 5.** When was the biggest *decrease* in unemployment, and when did it happen?"
   ]
  },
  {
   "cell_type": "markdown",
   "metadata": {},
   "source": [
    "*Write your answer here, replacing this text.*"
   ]
  },
  {
   "cell_type": "code",
   "execution_count": null,
   "metadata": {
    "collapsed": true,
    "for_assignment_type": "student"
   },
   "outputs": [],
   "source": [
    "# This cell is provided for exploration."
   ]
  },
  {
   "cell_type": "code",
   "execution_count": null,
   "metadata": {
    "collapsed": true
   },
   "outputs": [],
   "source": [
    "# For your convenience, you can run this cell to run all the tests at once!\n",
    "import os\n",
    "_ = [tests.grade(q[:-3]) for q in os.listdir(\"tests\") if q.startswith('q')]"
   ]
  },
  {
   "cell_type": "code",
   "execution_count": null,
   "metadata": {
    "collapsed": true
   },
   "outputs": [],
   "source": [
    "# Run this cell to submit your work *after* you have passed all of the test cells.\n",
    "# It's ok to run this cell multiple times. Only your final submission will be scored.\n",
    "\n",
    "!TZ=America/Los_Angeles ipython nbconvert --output=\".basic_ranges_$(date +%m%d_%H%M)_submission.html\" basic_ranges.ipynb"
   ]
  }
 ],
 "metadata": {
  "kernelspec": {
   "display_name": "Python 3",
   "language": "python",
   "name": "python3"
  },
  "language_info": {
   "codemirror_mode": {
    "name": "ipython",
    "version": 3
   },
   "file_extension": ".py",
   "mimetype": "text/x-python",
   "name": "python",
   "nbconvert_exporter": "python",
   "pygments_lexer": "ipython3",
   "version": "3.6.1"
  }
 },
 "nbformat": 4,
 "nbformat_minor": 1
}
