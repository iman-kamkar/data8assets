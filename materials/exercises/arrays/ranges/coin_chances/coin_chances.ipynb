{
 "cells": [
  {
   "cell_type": "markdown",
   "metadata": {},
   "source": [
    "## Flipping Coins"
   ]
  },
  {
   "cell_type": "code",
   "execution_count": 1,
   "metadata": {},
   "outputs": [
    {
     "name": "stderr",
     "output_type": "stream",
     "text": [
      "WARNING  | guidance.py:102 | Failed to read .ok_guidance file. It may not exist\n"
     ]
    },
    {
     "name": "stdout",
     "output_type": "stream",
     "text": [
      "=====================================================================\n",
      "Assignment: Flipping Coins\n",
      "OK, version v1.12.10\n",
      "=====================================================================\n",
      "\n"
     ]
    }
   ],
   "source": [
    "# Run this cell to set up the notebook, but please don't change it.\n",
    "\n",
    "# These lines import the NumPy and Datascience modules.\n",
    "import numpy as np\n",
    "from datascience import *\n",
    "\n",
    "# These lines load the tests.\n",
    "from client.api.assignment import load_assignment \n",
    "tests = load_assignment('coin_chances.ok')"
   ]
  },
  {
   "cell_type": "markdown",
   "metadata": {},
   "source": [
    "As you're walking down Bancroft one afternoon, a shadowy figure steps out of Sather Lane and offers you the following game:\n",
    "\n",
    "> \"First, you pay me \\$1 to play.  Then, I'll flip 4 fair coins.  (\"Fair\" means that there's a 50% chance the coin lands heads and a 50% chance it lands tails, and all the coins are independent of each other.)\n",
    "\n",
    "> \"If all of the coins come up heads, then I'll give you \\$10.\"\n",
    "\n",
    "Let's figure out whether this is a good deal.  Answering that question formally requires a little bit of decision theory, which we haven't seen yet, but for now we can at least use a computer to think about how the game works.\n",
    "\n",
    "First, let's think about the outcomes that can happen.  We'll order the coins left to right and denote an outcome by a **string**.  For example, if we get all heads, we'll denote that outcome by `\"HHHH\"`.  If we get tails first and then 3 heads, we'll denote that by `\"THHH\"`.\n",
    "\n",
    "**Question 1.** Make an array containing any 3 outcomes that can happen, using this notation.  (The array should contain 3 strings.)  Don't use the examples we've already given!"
   ]
  },
  {
   "cell_type": "code",
   "execution_count": 19,
   "metadata": {},
   "outputs": [
    {
     "data": {
      "text/plain": [
       "array(['HHT', 'HTH', 'HTT', 'THT', 'TTH', 'TTT'], \n",
       "      dtype='<U3')"
      ]
     },
     "execution_count": 19,
     "metadata": {},
     "output_type": "execute_result"
    }
   ],
   "source": [
    "import numpy as np\n",
    "outcomes = np.array([\"HHT\", \"HTH\", \"HTT\", \"THT\", \"TTH\", \"TTT\"])\n",
    "outcomes"
   ]
  },
  {
   "cell_type": "code",
   "execution_count": 20,
   "metadata": {},
   "outputs": [
    {
     "name": "stdout",
     "output_type": "stream",
     "text": [
      "~~~~~~~~~~~~~~~~~~~~~~~~~~~~~~~~~~~~~~~~~~~~~~~~~~~~~~~~~~~~~~~~~~~~~\n",
      "Running tests\n",
      "\n",
      "---------------------------------------------------------------------\n",
      " > Suite 1 > Case 1\n",
      "\n",
      ">>> import re\n",
      ">>> all([bool(re.match('[HT]{4}', o)) for o in outcomes])\n",
      "False\n",
      "\n",
      "# Error: expected\n",
      "#     True\n",
      "# but got\n",
      "#     False\n",
      "\n",
      "Run only this test case with \"python3 ok -q q1 --suite 1 --case 1\"\n",
      "---------------------------------------------------------------------\n",
      "Test summary\n",
      "    Passed: 0\n",
      "    Failed: 1\n",
      "[k..........] 0.0% passed\n",
      "\n"
     ]
    }
   ],
   "source": [
    "_ = tests.grade('q1')"
   ]
  },
  {
   "cell_type": "markdown",
   "metadata": {},
   "source": [
    "A single coin has 2 outcomes, `\"H\"` and `\"T\"`.  When you add a coin to any set of coins, that *multiplies* the number of potential outcomes by 2, because for each potential outcome there was before, there are now 2 potential outcomes: one where the new coin is heads, and one where the new coin is tails.  So if the shadowy figure flips $n$ coins, then there are $2^n$ potential outcomes.\n",
    "\n",
    "**Question 2.** Compute the number of outcomes for 4 coins.  **Use the exponentiation (**`**`**) operator.**"
   ]
  },
  {
   "cell_type": "code",
   "execution_count": 21,
   "metadata": {
    "collapsed": true
   },
   "outputs": [],
   "source": [
    "num_outcomes_4_coins = 2 ** 4"
   ]
  },
  {
   "cell_type": "code",
   "execution_count": 22,
   "metadata": {},
   "outputs": [
    {
     "name": "stdout",
     "output_type": "stream",
     "text": [
      "~~~~~~~~~~~~~~~~~~~~~~~~~~~~~~~~~~~~~~~~~~~~~~~~~~~~~~~~~~~~~~~~~~~~~\n",
      "Running tests\n",
      "\n",
      "---------------------------------------------------------------------\n",
      "Test summary\n",
      "    Passed: 1\n",
      "    Failed: 0\n",
      "[ooooooooook] 100.0% passed\n",
      "\n"
     ]
    }
   ],
   "source": [
    "_ = tests.grade('q2')"
   ]
  },
  {
   "cell_type": "markdown",
   "metadata": {},
   "source": [
    "You can run the cell below to see all the outcomes for 4 coins that you didn't put in `outcomes`.  You can modify `n` to see all the outcomes for different numbers of coins.  (Don't make `n` too big, or the cell might crash your Jupyter server!)"
   ]
  },
  {
   "cell_type": "code",
   "execution_count": 23,
   "metadata": {},
   "outputs": [
    {
     "data": {
      "text/plain": [
       "array(['HHHH', 'HHHT', 'HHTH', 'HHTT', 'HTHH', 'HTHT', 'HTTH', 'HTTT',\n",
       "       'THHH', 'THHT', 'THTH', 'THTT', 'TTHH', 'TTHT', 'TTTH', 'TTTT'], \n",
       "      dtype='<U4')"
      ]
     },
     "execution_count": 23,
     "metadata": {},
     "output_type": "execute_result"
    }
   ],
   "source": [
    "# This cell uses some techniques you haven't seen yet.  Don't worry about\n",
    "# reading it, unless you're curious.\n",
    "n = 4\n",
    "digit_to_coin = Table().with_columns(\"digit\", make_array(\"0\", \"1\"), \"coin\", make_array(\"T\", \"H\"))\n",
    "def number_to_outcome(num_digits):\n",
    "    def converter(number):\n",
    "        \"\"\"Converts a number to a coin outcome string, based on its binary representation.\"\"\"\n",
    "        bit_string = np.array(bin(number).split(\"b\")).item(1).zfill(num_digits)\n",
    "        digits = Table().with_columns(\"index\", np.arange(num_digits), \"digit\", np.array(list(bit_string)))\n",
    "        heads_tails = \"\".join(digits.join(\"digit\", digit_to_coin).sort(\"index\").column(\"coin\"))\n",
    "        return heads_tails\n",
    "    return converter\n",
    "# All the potential outcomes:\n",
    "all_outcomes = Table().with_column(\"outcome number\", np.arange(2**n)).apply(number_to_outcome(n), \"outcome number\")\n",
    "# All the potential outcomes, except the ones you named:\n",
    "remaining_outcomes = np.array(sorted(set(all_outcomes) - set(outcomes)))\n",
    "remaining_outcomes"
   ]
  },
  {
   "cell_type": "markdown",
   "metadata": {},
   "source": [
    "You should have found that there were 16 possible outcomes.  Since 1 of them nets you \\$9 and the other 15 net you -\\$1, if you play 16 games, then on average you'll lose \\$6.  So it's probably not a good idea to play the game.  But this would change if there were more or fewer coins!\n",
    "\n",
    "**Question 3.** Suppose the shadowy figure had used a different number of coins.  Compute the number of outcomes for a game with 1 coin, for a game with 2 coins, for a game with 3 coins, and so on, up to 50 coins.  Put the results in an array called `num_outcomes`.  (So your answer should look like `array([2, 4, 8, 16, ...])`.)\n",
    "\n",
    "*Hint:* Don't write an expression and copy it 50 times!  Instead, think about the formula for each entry of the array you want, and use array arithmetic to implement that formula."
   ]
  },
  {
   "cell_type": "code",
   "execution_count": 25,
   "metadata": {},
   "outputs": [
    {
     "data": {
      "text/plain": [
       "array([               2,                4,                8,\n",
       "                     16,               32,               64,\n",
       "                    128,              256,              512,\n",
       "                   1024,             2048,             4096,\n",
       "                   8192,            16384,            32768,\n",
       "                  65536,           131072,           262144,\n",
       "                 524288,          1048576,          2097152,\n",
       "                4194304,          8388608,         16777216,\n",
       "               33554432,         67108864,        134217728,\n",
       "              268435456,        536870912,       1073741824,\n",
       "             2147483648,       4294967296,       8589934592,\n",
       "            17179869184,      34359738368,      68719476736,\n",
       "           137438953472,     274877906944,     549755813888,\n",
       "          1099511627776,    2199023255552,    4398046511104,\n",
       "          8796093022208,   17592186044416,   35184372088832,\n",
       "         70368744177664,  140737488355328,  281474976710656,\n",
       "        562949953421312, 1125899906842624], dtype=int64)"
      ]
     },
     "execution_count": 25,
     "metadata": {},
     "output_type": "execute_result"
    }
   ],
   "source": [
    "num_outcomes = 2 ** np.arange(1, 51, dtype=\"int64\")\n",
    "num_outcomes"
   ]
  },
  {
   "cell_type": "code",
   "execution_count": 26,
   "metadata": {},
   "outputs": [
    {
     "name": "stdout",
     "output_type": "stream",
     "text": [
      "~~~~~~~~~~~~~~~~~~~~~~~~~~~~~~~~~~~~~~~~~~~~~~~~~~~~~~~~~~~~~~~~~~~~~\n",
      "Running tests\n",
      "\n",
      "---------------------------------------------------------------------\n",
      "Test summary\n",
      "    Passed: 1\n",
      "    Failed: 0\n",
      "[ooooooooook] 100.0% passed\n",
      "\n"
     ]
    }
   ],
   "source": [
    "_ = tests.grade('q3')"
   ]
  },
  {
   "cell_type": "code",
   "execution_count": 27,
   "metadata": {},
   "outputs": [
    {
     "name": "stdout",
     "output_type": "stream",
     "text": [
      "~~~~~~~~~~~~~~~~~~~~~~~~~~~~~~~~~~~~~~~~~~~~~~~~~~~~~~~~~~~~~~~~~~~~~\n",
      "Running tests\n",
      "\n",
      "---------------------------------------------------------------------\n",
      " > Suite 1 > Case 1\n",
      "\n",
      ">>> import re\n",
      ">>> all([bool(re.match('[HT]{4}', o)) for o in outcomes])\n",
      "False\n",
      "\n",
      "# Error: expected\n",
      "#     True\n",
      "# but got\n",
      "#     False\n",
      "\n",
      "Run only this test case with \"python3 ok -q q1 --suite 1 --case 1\"\n",
      "---------------------------------------------------------------------\n",
      "Test summary\n",
      "    Passed: 0\n",
      "    Failed: 1\n",
      "[k..........] 0.0% passed\n",
      "\n",
      "~~~~~~~~~~~~~~~~~~~~~~~~~~~~~~~~~~~~~~~~~~~~~~~~~~~~~~~~~~~~~~~~~~~~~\n",
      "Running tests\n",
      "\n",
      "---------------------------------------------------------------------\n",
      "Test summary\n",
      "    Passed: 1\n",
      "    Failed: 0\n",
      "[ooooooooook] 100.0% passed\n",
      "\n",
      "~~~~~~~~~~~~~~~~~~~~~~~~~~~~~~~~~~~~~~~~~~~~~~~~~~~~~~~~~~~~~~~~~~~~~\n",
      "Running tests\n",
      "\n",
      "---------------------------------------------------------------------\n",
      "Test summary\n",
      "    Passed: 1\n",
      "    Failed: 0\n",
      "[ooooooooook] 100.0% passed\n",
      "\n",
      "~~~~~~~~~~~~~~~~~~~~~~~~~~~~~~~~~~~~~~~~~~~~~~~~~~~~~~~~~~~~~~~~~~~~~\n",
      "Running tests\n",
      "\n",
      "---------------------------------------------------------------------\n",
      "Test summary\n",
      "    Passed: 1\n",
      "    Failed: 0\n",
      "[ooooooooook] 100.0% passed\n",
      "\n"
     ]
    }
   ],
   "source": [
    "# For your convenience, you can run this cell to run all the tests at once!\n",
    "import os\n",
    "_ = [tests.grade(q[:-3]) for q in os.listdir(\"tests\") if q.startswith('q')]"
   ]
  },
  {
   "cell_type": "code",
   "execution_count": null,
   "metadata": {},
   "outputs": [],
   "source": [
    "# Run this cell to submit your work *after* you have passed all of the test cells.\n",
    "# It's ok to run this cell multiple times. Only your final submission will be scored.\n",
    "\n",
    "!TZ=America/Los_Angeles ipython nbconvert --output=\".coin_chances_$(date +%m%d_%H%M)_submission.html\" coin_chances.ipynb"
   ]
  }
 ],
 "metadata": {
  "kernelspec": {
   "display_name": "Python 3",
   "language": "python",
   "name": "python3"
  },
  "language_info": {
   "codemirror_mode": {
    "name": "ipython",
    "version": 3
   },
   "file_extension": ".py",
   "mimetype": "text/x-python",
   "name": "python",
   "nbconvert_exporter": "python",
   "pygments_lexer": "ipython3",
   "version": "3.6.1"
  }
 },
 "nbformat": 4,
 "nbformat_minor": 1
}
